{
  "nbformat": 4,
  "nbformat_minor": 0,
  "metadata": {
    "colab": {
      "provenance": []
    },
    "kernelspec": {
      "name": "python3",
      "display_name": "Python 3"
    },
    "language_info": {
      "name": "python"
    }
  },
  "cells": [
    {
      "cell_type": "markdown",
      "metadata": {
        "id": "igscBfg31xzX"
      },
      "source": [
        "## Natural language processing"
      ]
    },
    {
      "cell_type": "markdown",
      "metadata": {
        "id": "9vzooI-nvkzO"
      },
      "source": [
        "### Text preprocessing"
      ]
    },
    {
      "cell_type": "code",
      "source": [
        "pip install nltk"
      ],
      "metadata": {
        "colab": {
          "base_uri": "https://localhost:8080/"
        },
        "id": "3Go7rqn6FIvn",
        "outputId": "68543312-5ee0-4969-8aa1-39272891bdb7"
      },
      "execution_count": 35,
      "outputs": [
        {
          "output_type": "stream",
          "name": "stdout",
          "text": [
            "Requirement already satisfied: nltk in /usr/local/lib/python3.10/dist-packages (3.9.1)\n",
            "Requirement already satisfied: click in /usr/local/lib/python3.10/dist-packages (from nltk) (8.1.7)\n",
            "Requirement already satisfied: joblib in /usr/local/lib/python3.10/dist-packages (from nltk) (1.4.2)\n",
            "Requirement already satisfied: regex>=2021.8.3 in /usr/local/lib/python3.10/dist-packages (from nltk) (2024.11.6)\n",
            "Requirement already satisfied: tqdm in /usr/local/lib/python3.10/dist-packages (from nltk) (4.67.1)\n"
          ]
        }
      ]
    },
    {
      "cell_type": "code",
      "metadata": {
        "id": "hbuU8WhzKLBt"
      },
      "source": [
        "# take the source text for analysis\n",
        "corpus = 'When we were in Paris we visited a lot of museums. We first went to the Louvre, the largest art museum in the world. I have always been interested in art so I spent many hours there. The museum is enourmous, so a week there would not be enough.'"
      ],
      "execution_count": 36,
      "outputs": []
    },
    {
      "cell_type": "code",
      "metadata": {
        "id": "EZCOyIopqhJJ"
      },
      "source": [
        "# importing the main library for working with text\n",
        "import nltk\n",
        "\n",
        "# and other libraries already known to us\n",
        "import pandas as pd\n",
        "import numpy as np"
      ],
      "execution_count": 37,
      "outputs": []
    },
    {
      "cell_type": "markdown",
      "metadata": {
        "id": "SiXzm8bSWuR8"
      },
      "source": [
        "#### Step 1. Splitting into sentences\n"
      ]
    },
    {
      "cell_type": "code",
      "metadata": {
        "colab": {
          "base_uri": "https://localhost:8080/"
        },
        "id": "0_lp7a2jqXKV",
        "outputId": "4203fcb3-685b-4fe8-e6fc-606ee147a432"
      },
      "source": [
        "# importing the sent_tokenize() function\n",
        "from nltk.tokenize import sent_tokenize\n",
        "\n",
        "# download the model that will divide the text into sentences\n",
        "nltk.download('punkt_tab')\n",
        "print('')\n",
        "\n",
        "\n",
        "# and apply the function to the text\n",
        "sentences = sent_tokenize(corpus, language='english')\n",
        "sentences"
      ],
      "execution_count": 38,
      "outputs": [
        {
          "output_type": "stream",
          "name": "stdout",
          "text": [
            "\n"
          ]
        },
        {
          "output_type": "stream",
          "name": "stderr",
          "text": [
            "[nltk_data] Downloading package punkt_tab to /root/nltk_data...\n",
            "[nltk_data]   Package punkt_tab is already up-to-date!\n"
          ]
        },
        {
          "output_type": "execute_result",
          "data": {
            "text/plain": [
              "['When we were in Paris we visited a lot of museums.',\n",
              " 'We first went to the Louvre, the largest art museum in the world.',\n",
              " 'I have always been interested in art so I spent many hours there.',\n",
              " 'The museum is enourmous, so a week there would not be enough.']"
            ]
          },
          "metadata": {},
          "execution_count": 38
        }
      ]
    },
    {
      "cell_type": "markdown",
      "metadata": {
        "id": "4yQB6XfgW5J7"
      },
      "source": [
        "#### Step 2. Splitting into words"
      ]
    },
    {
      "cell_type": "code",
      "metadata": {
        "id": "PYo3qgIGtSNy",
        "colab": {
          "base_uri": "https://localhost:8080/"
        },
        "outputId": "730d448f-4f3f-448a-c349-9eb4d9f95552"
      },
      "source": [
        "# importing the word_tokenize() function\n",
        "from nltk.tokenize import word_tokenize\n",
        "\n",
        "# and let's break down the first sentence into words\n",
        "print(word_tokenize(sentences[0]))"
      ],
      "execution_count": 39,
      "outputs": [
        {
          "output_type": "stream",
          "name": "stdout",
          "text": [
            "['When', 'we', 'were', 'in', 'Paris', 'we', 'visited', 'a', 'lot', 'of', 'museums', '.']\n"
          ]
        }
      ]
    },
    {
      "cell_type": "code",
      "metadata": {
        "id": "D1QCDw-KtXb1",
        "colab": {
          "base_uri": "https://localhost:8080/"
        },
        "outputId": "a9bb1de8-1580-44e6-b9b8-9d79fc852199"
      },
      "source": [
        "# now let's do this with all the offers\n",
        "\n",
        "# to do this, create an empty list\n",
        "tokens = []\n",
        "\n",
        "# in the for loop, we'll go through each sentence\n",
        "for sentence in sentences:\n",
        "\n",
        "    # creating lists of tokens\n",
        "    t = word_tokenize(sentence)\n",
        "\n",
        "    # and add the lists to each other\n",
        "    tokens.extend(t)\n",
        "\n",
        "print(tokens)"
      ],
      "execution_count": 40,
      "outputs": [
        {
          "output_type": "stream",
          "name": "stdout",
          "text": [
            "['When', 'we', 'were', 'in', 'Paris', 'we', 'visited', 'a', 'lot', 'of', 'museums', '.', 'We', 'first', 'went', 'to', 'the', 'Louvre', ',', 'the', 'largest', 'art', 'museum', 'in', 'the', 'world', '.', 'I', 'have', 'always', 'been', 'interested', 'in', 'art', 'so', 'I', 'spent', 'many', 'hours', 'there', '.', 'The', 'museum', 'is', 'enourmous', ',', 'so', 'a', 'week', 'there', 'would', 'not', 'be', 'enough', '.']\n"
          ]
        }
      ]
    },
    {
      "cell_type": "markdown",
      "metadata": {
        "id": "4ZlVHeXfW-EV"
      },
      "source": [
        "#### Step 3. Lowercase translation, removal of stop words and punctuation marks\n"
      ]
    },
    {
      "cell_type": "code",
      "metadata": {
        "id": "86qHziOHtcwh",
        "colab": {
          "base_uri": "https://localhost:8080/"
        },
        "outputId": "624446b4-77b9-4899-c8be-120a546f27b7"
      },
      "source": [
        "# importing the stopword module\n",
        "from nltk.corpus import stopwords\n",
        "\n",
        "# download the dictionary of stop words\n",
        "nltk.download('stopwords')\n",
        "\n",
        "# we use set to leave only unique values\n",
        "unique_stops = set(stopwords.words('english'))\n",
        "\n",
        "# creating an empty list without stop words\n",
        "no_stops = []\n",
        "\n",
        "# going through all the tokens\n",
        "for token in tokens:\n",
        "\n",
        "    # we translate all words into lowercase\n",
        "    token = token.lower()\n",
        "\n",
        "    # если тоif the token is not in the list of stop words and is not a punctuation mark,\n",
        "    if token not in unique_stops and token.isalpha():\n",
        "\n",
        "        # adding it to the list\n",
        "        no_stops.append(token)\n",
        "\n",
        "print(no_stops)"
      ],
      "execution_count": 41,
      "outputs": [
        {
          "output_type": "stream",
          "name": "stdout",
          "text": [
            "['paris', 'visited', 'lot', 'museums', 'first', 'went', 'louvre', 'largest', 'art', 'museum', 'world', 'always', 'interested', 'art', 'spent', 'many', 'hours', 'museum', 'enourmous', 'week', 'would', 'enough']\n"
          ]
        },
        {
          "output_type": "stream",
          "name": "stderr",
          "text": [
            "[nltk_data] Downloading package stopwords to /root/nltk_data...\n",
            "[nltk_data]   Unzipping corpora/stopwords.zip.\n"
          ]
        }
      ]
    },
    {
      "cell_type": "markdown",
      "metadata": {
        "id": "R4XqH_LbXKNI"
      },
      "source": [
        "#### Step 4. Lemmatization\n"
      ]
    },
    {
      "cell_type": "code",
      "metadata": {
        "id": "K_QyS1s6wlxb",
        "colab": {
          "base_uri": "https://localhost:8080/"
        },
        "outputId": "7bbce35b-c03a-4299-8db2-83b838c9706a"
      },
      "source": [
        "# importing a class for lemmatization\n",
        "from nltk.stem import WordNetLemmatizer\n",
        "\n",
        "# importing the dictionary\n",
        "nltk.download('wordnet')\n",
        "\n",
        "# creating an object of this class\n",
        "lemmatizer = WordNetLemmatizer()\n",
        "\n",
        "# and an empty list for words after lemmatization\n",
        "lemmatized = []\n",
        "\n",
        "# going through all the tokens\n",
        "for token in no_stops:\n",
        "\n",
        "    # we apply lemmatization\n",
        "    token = lemmatizer.lemmatize(token)\n",
        "\n",
        "    # adding the word after lemmatization to the list\n",
        "    lemmatized.append(token)\n",
        "\n",
        "print(lemmatized)"
      ],
      "execution_count": 42,
      "outputs": [
        {
          "output_type": "stream",
          "name": "stderr",
          "text": [
            "[nltk_data] Downloading package wordnet to /root/nltk_data...\n"
          ]
        },
        {
          "output_type": "stream",
          "name": "stdout",
          "text": [
            "['paris', 'visited', 'lot', 'museum', 'first', 'went', 'louvre', 'largest', 'art', 'museum', 'world', 'always', 'interested', 'art', 'spent', 'many', 'hour', 'museum', 'enourmous', 'week', 'would', 'enough']\n"
          ]
        }
      ]
    },
    {
      "cell_type": "markdown",
      "metadata": {
        "id": "Kq7a3URaXM_i"
      },
      "source": [
        "#### Step 5. Stemming\n"
      ]
    },
    {
      "cell_type": "code",
      "metadata": {
        "id": "69xOHuD80wis",
        "colab": {
          "base_uri": "https://localhost:8080/"
        },
        "outputId": "d0f85b7e-b465-4f5c-b585-80bfe99d858b"
      },
      "source": [
        "# importing the Porter stemmer class and creating an object of this class\n",
        "from nltk.stem import PorterStemmer\n",
        "porter = PorterStemmer()\n",
        "\n",
        "# we use list comprehension instead of the for loop for stemming and creating a new list\n",
        "# this record is much shorter.\n",
        "stemmed_p = [porter.stem(s) for s in lemmatized]\n",
        "print(stemmed_p)"
      ],
      "execution_count": 43,
      "outputs": [
        {
          "output_type": "stream",
          "name": "stdout",
          "text": [
            "['pari', 'visit', 'lot', 'museum', 'first', 'went', 'louvr', 'largest', 'art', 'museum', 'world', 'alway', 'interest', 'art', 'spent', 'mani', 'hour', 'museum', 'enourm', 'week', 'would', 'enough']\n"
          ]
        }
      ]
    },
    {
      "cell_type": "code",
      "metadata": {
        "id": "0eAgmFso2NCL",
        "colab": {
          "base_uri": "https://localhost:8080/"
        },
        "outputId": "faba7bf6-0c2b-4eb3-c309-39266d38fb02"
      },
      "source": [
        "# similarly, we import the Lancaster class and create an object of this class\n",
        "from nltk.stem import LancasterStemmer\n",
        "lancaster = LancasterStemmer()\n",
        "\n",
        "# We also use list_comprehension\n",
        "stemmed_l = [lancaster.stem(s) for s in lemmatized]\n",
        "print(stemmed_l)"
      ],
      "execution_count": 44,
      "outputs": [
        {
          "output_type": "stream",
          "name": "stdout",
          "text": [
            "['par', 'visit', 'lot', 'muse', 'first', 'went', 'louvr', 'largest', 'art', 'muse', 'world', 'alway', 'interest', 'art', 'spent', 'many', 'hour', 'muse', 'enourm', 'week', 'would', 'enough']\n"
          ]
        }
      ]
    },
    {
      "cell_type": "markdown",
      "metadata": {
        "id": "lg_PhGXGvhJG"
      },
      "source": [
        "### Bag of words (bag of words, bow)"
      ]
    },
    {
      "cell_type": "markdown",
      "metadata": {
        "id": "Zyw-EPbs2mV_"
      },
      "source": [
        "Using Counter\n"
      ]
    },
    {
      "cell_type": "code",
      "metadata": {
        "id": "Iqpe0QUEvfbp",
        "colab": {
          "base_uri": "https://localhost:8080/"
        },
        "outputId": "9db36a41-9b15-419a-f97c-46bd61989739"
      },
      "source": [
        "# importing the Counter class from the collections module\n",
        "from collections import Counter\n",
        "\n",
        "# applying the Counter class to words after lemmatization\n",
        "# the output returns the dictionary { word : its frequency in the text }\n",
        "bow_counter = Counter(lemmatized)\n",
        "# print(bow_counter)\n",
        "\n",
        "\n",
        "# the most_common() function orders the dictionary by value\n",
        "# look at the top 10 most frequent words\n",
        "print(bow_counter.most_common(10))"
      ],
      "execution_count": 45,
      "outputs": [
        {
          "output_type": "stream",
          "name": "stdout",
          "text": [
            "[('museum', 3), ('art', 2), ('paris', 1), ('visited', 1), ('lot', 1), ('first', 1), ('went', 1), ('louvre', 1), ('largest', 1), ('world', 1)]\n"
          ]
        }
      ]
    },
    {
      "cell_type": "markdown",
      "metadata": {
        "id": "MxDQoiXi2qUV"
      },
      "source": [
        "Using CountVectorizer\n"
      ]
    },
    {
      "cell_type": "code",
      "metadata": {
        "id": "OLKaxvgc2_hr"
      },
      "source": [
        "# importing the CountVectorizer class from the Scikit-learn library\n",
        "from sklearn.feature_extraction.text import CountVectorizer\n",
        "\n",
        "# creating an object of this class and\n",
        "# we indicate that we want to translate the words into lowercase, as well as\n",
        "# filter out stop words using stop_words = 'english'\n",
        "vectorizer = CountVectorizer(analyzer = \"word\",\n",
        "                             lowercase = True,\n",
        "                             tokenizer = None,\n",
        "                             preprocessor = None,\n",
        "                             stop_words = 'english',\n",
        "                             max_features = 5000)"
      ],
      "execution_count": 46,
      "outputs": []
    },
    {
      "cell_type": "code",
      "metadata": {
        "id": "MG1oEHVK44nA",
        "colab": {
          "base_uri": "https://localhost:8080/"
        },
        "outputId": "7daf7111-ca7f-457c-a0ce-87b5ecbcba72"
      },
      "source": [
        "# we apply this object to sentences (they also say documents)\n",
        "bow_cv = vectorizer.fit_transform(sentences)\n",
        "\n",
        "# the output is a csr matrix\n",
        "print(type(bow_cv))"
      ],
      "execution_count": 47,
      "outputs": [
        {
          "output_type": "stream",
          "name": "stdout",
          "text": [
            "<class 'scipy.sparse._csr.csr_matrix'>\n"
          ]
        }
      ]
    },
    {
      "cell_type": "code",
      "metadata": {
        "id": "8rv2IbfGRWIU",
        "colab": {
          "base_uri": "https://localhost:8080/"
        },
        "outputId": "b44ccb69-8fb1-4caf-fd4a-9491d3e2a2b6"
      },
      "source": [
        "# convert the csr matrix to the familiar Numpy array format\n",
        "# to do this, you can use .toarray()\n",
        "print(bow_cv.toarray())"
      ],
      "execution_count": 48,
      "outputs": [
        {
          "output_type": "stream",
          "name": "stdout",
          "text": [
            "[[0 0 0 0 0 1 0 0 1 1 0 1 0 0 0]\n",
            " [1 0 0 0 1 0 1 1 0 0 0 0 0 1 1]\n",
            " [1 0 1 1 0 0 0 0 0 0 1 0 0 0 0]\n",
            " [0 1 0 0 0 0 0 1 0 0 0 0 1 0 0]]\n"
          ]
        }
      ]
    },
    {
      "cell_type": "code",
      "metadata": {
        "id": "FC5XjZr8b70w",
        "colab": {
          "base_uri": "https://localhost:8080/"
        },
        "outputId": "cd75cbc3-a56f-45fb-cd29-8cf8d3ba8d63"
      },
      "source": [
        "# rows are sentences (documents), columns are words (tokens)\n",
        "bow_cv.shape"
      ],
      "execution_count": 49,
      "outputs": [
        {
          "output_type": "execute_result",
          "data": {
            "text/plain": [
              "(4, 15)"
            ]
          },
          "metadata": {},
          "execution_count": 49
        }
      ]
    },
    {
      "cell_type": "code",
      "metadata": {
        "id": "KDztE1R_4-1h",
        "colab": {
          "base_uri": "https://localhost:8080/"
        },
        "outputId": "c84368c2-ebfe-4420-b022-e1824f296b8e"
      },
      "source": [
        "# we can look at the tokens (words) used\n",
        "\n",
        "# Here, numbers are not a frequency, but simply an ordinal number (index).\n",
        "vocab = vectorizer.vocabulary_\n",
        "print(vocab)"
      ],
      "execution_count": 50,
      "outputs": [
        {
          "output_type": "stream",
          "name": "stdout",
          "text": [
            "{'paris': 9, 'visited': 11, 'lot': 5, 'museums': 8, 'went': 13, 'louvre': 6, 'largest': 4, 'art': 0, 'museum': 7, 'world': 14, 'interested': 3, 'spent': 10, 'hours': 2, 'enourmous': 1, 'week': 12}\n"
          ]
        }
      ]
    },
    {
      "cell_type": "code",
      "source": [
        "# you can output words without an index\n",
        "tokens = vectorizer.get_feature_names_out()\n",
        "print(tokens)"
      ],
      "metadata": {
        "id": "If6Vb-X4skzW",
        "colab": {
          "base_uri": "https://localhost:8080/"
        },
        "outputId": "ebb8a9cc-a27e-423c-a1d9-5cbacd326a13"
      },
      "execution_count": 51,
      "outputs": [
        {
          "output_type": "stream",
          "name": "stdout",
          "text": [
            "['art' 'enourmous' 'hours' 'interested' 'largest' 'lot' 'louvre' 'museum'\n",
            " 'museums' 'paris' 'spent' 'visited' 'week' 'went' 'world']\n"
          ]
        }
      ]
    },
    {
      "cell_type": "code",
      "metadata": {
        "id": "MaNy4TEucTse",
        "colab": {
          "base_uri": "https://localhost:8080/",
          "height": 194
        },
        "outputId": "63068b8f-3234-4a3f-9e75-86e001531164"
      },
      "source": [
        "# for convenience, we will convert the matrix into a dataframe\n",
        "\n",
        "# first, let's create an index of proposals (documents)\n",
        "index_list = []\n",
        "\n",
        "# in the loop, we will go through the elements of the matrix, denoting them by '_'\n",
        "# the enumerate function will set an index for each element, starting from 0\n",
        "for i, _ in enumerate(bow_cv):\n",
        "\n",
        "    # let's add an index to the word Sentence\n",
        "    index_list.append(f'Sentence_{i}')\n",
        "\n",
        "# print(index_list)\n",
        "\n",
        "# now you can use pd.DataFrame()\n",
        "bow_cv_df = pd.DataFrame(data = bow_cv.toarray(),\n",
        "                         index = index_list,\n",
        "                         columns = tokens)\n",
        "bow_cv_df"
      ],
      "execution_count": 52,
      "outputs": [
        {
          "output_type": "execute_result",
          "data": {
            "text/plain": [
              "            art  enourmous  hours  interested  largest  lot  louvre  museum  \\\n",
              "Sentence_0    0          0      0           0        0    1       0       0   \n",
              "Sentence_1    1          0      0           0        1    0       1       1   \n",
              "Sentence_2    1          0      1           1        0    0       0       0   \n",
              "Sentence_3    0          1      0           0        0    0       0       1   \n",
              "\n",
              "            museums  paris  spent  visited  week  went  world  \n",
              "Sentence_0        1      1      0        1     0     0      0  \n",
              "Sentence_1        0      0      0        0     0     1      1  \n",
              "Sentence_2        0      0      1        0     0     0      0  \n",
              "Sentence_3        0      0      0        0     1     0      0  "
            ],
            "text/html": [
              "\n",
              "  <div id=\"df-29bf693e-7142-46e0-b469-aed27d2364fe\" class=\"colab-df-container\">\n",
              "    <div>\n",
              "<style scoped>\n",
              "    .dataframe tbody tr th:only-of-type {\n",
              "        vertical-align: middle;\n",
              "    }\n",
              "\n",
              "    .dataframe tbody tr th {\n",
              "        vertical-align: top;\n",
              "    }\n",
              "\n",
              "    .dataframe thead th {\n",
              "        text-align: right;\n",
              "    }\n",
              "</style>\n",
              "<table border=\"1\" class=\"dataframe\">\n",
              "  <thead>\n",
              "    <tr style=\"text-align: right;\">\n",
              "      <th></th>\n",
              "      <th>art</th>\n",
              "      <th>enourmous</th>\n",
              "      <th>hours</th>\n",
              "      <th>interested</th>\n",
              "      <th>largest</th>\n",
              "      <th>lot</th>\n",
              "      <th>louvre</th>\n",
              "      <th>museum</th>\n",
              "      <th>museums</th>\n",
              "      <th>paris</th>\n",
              "      <th>spent</th>\n",
              "      <th>visited</th>\n",
              "      <th>week</th>\n",
              "      <th>went</th>\n",
              "      <th>world</th>\n",
              "    </tr>\n",
              "  </thead>\n",
              "  <tbody>\n",
              "    <tr>\n",
              "      <th>Sentence_0</th>\n",
              "      <td>0</td>\n",
              "      <td>0</td>\n",
              "      <td>0</td>\n",
              "      <td>0</td>\n",
              "      <td>0</td>\n",
              "      <td>1</td>\n",
              "      <td>0</td>\n",
              "      <td>0</td>\n",
              "      <td>1</td>\n",
              "      <td>1</td>\n",
              "      <td>0</td>\n",
              "      <td>1</td>\n",
              "      <td>0</td>\n",
              "      <td>0</td>\n",
              "      <td>0</td>\n",
              "    </tr>\n",
              "    <tr>\n",
              "      <th>Sentence_1</th>\n",
              "      <td>1</td>\n",
              "      <td>0</td>\n",
              "      <td>0</td>\n",
              "      <td>0</td>\n",
              "      <td>1</td>\n",
              "      <td>0</td>\n",
              "      <td>1</td>\n",
              "      <td>1</td>\n",
              "      <td>0</td>\n",
              "      <td>0</td>\n",
              "      <td>0</td>\n",
              "      <td>0</td>\n",
              "      <td>0</td>\n",
              "      <td>1</td>\n",
              "      <td>1</td>\n",
              "    </tr>\n",
              "    <tr>\n",
              "      <th>Sentence_2</th>\n",
              "      <td>1</td>\n",
              "      <td>0</td>\n",
              "      <td>1</td>\n",
              "      <td>1</td>\n",
              "      <td>0</td>\n",
              "      <td>0</td>\n",
              "      <td>0</td>\n",
              "      <td>0</td>\n",
              "      <td>0</td>\n",
              "      <td>0</td>\n",
              "      <td>1</td>\n",
              "      <td>0</td>\n",
              "      <td>0</td>\n",
              "      <td>0</td>\n",
              "      <td>0</td>\n",
              "    </tr>\n",
              "    <tr>\n",
              "      <th>Sentence_3</th>\n",
              "      <td>0</td>\n",
              "      <td>1</td>\n",
              "      <td>0</td>\n",
              "      <td>0</td>\n",
              "      <td>0</td>\n",
              "      <td>0</td>\n",
              "      <td>0</td>\n",
              "      <td>1</td>\n",
              "      <td>0</td>\n",
              "      <td>0</td>\n",
              "      <td>0</td>\n",
              "      <td>0</td>\n",
              "      <td>1</td>\n",
              "      <td>0</td>\n",
              "      <td>0</td>\n",
              "    </tr>\n",
              "  </tbody>\n",
              "</table>\n",
              "</div>\n",
              "    <div class=\"colab-df-buttons\">\n",
              "\n",
              "  <div class=\"colab-df-container\">\n",
              "    <button class=\"colab-df-convert\" onclick=\"convertToInteractive('df-29bf693e-7142-46e0-b469-aed27d2364fe')\"\n",
              "            title=\"Convert this dataframe to an interactive table.\"\n",
              "            style=\"display:none;\">\n",
              "\n",
              "  <svg xmlns=\"http://www.w3.org/2000/svg\" height=\"24px\" viewBox=\"0 -960 960 960\">\n",
              "    <path d=\"M120-120v-720h720v720H120Zm60-500h600v-160H180v160Zm220 220h160v-160H400v160Zm0 220h160v-160H400v160ZM180-400h160v-160H180v160Zm440 0h160v-160H620v160ZM180-180h160v-160H180v160Zm440 0h160v-160H620v160Z\"/>\n",
              "  </svg>\n",
              "    </button>\n",
              "\n",
              "  <style>\n",
              "    .colab-df-container {\n",
              "      display:flex;\n",
              "      gap: 12px;\n",
              "    }\n",
              "\n",
              "    .colab-df-convert {\n",
              "      background-color: #E8F0FE;\n",
              "      border: none;\n",
              "      border-radius: 50%;\n",
              "      cursor: pointer;\n",
              "      display: none;\n",
              "      fill: #1967D2;\n",
              "      height: 32px;\n",
              "      padding: 0 0 0 0;\n",
              "      width: 32px;\n",
              "    }\n",
              "\n",
              "    .colab-df-convert:hover {\n",
              "      background-color: #E2EBFA;\n",
              "      box-shadow: 0px 1px 2px rgba(60, 64, 67, 0.3), 0px 1px 3px 1px rgba(60, 64, 67, 0.15);\n",
              "      fill: #174EA6;\n",
              "    }\n",
              "\n",
              "    .colab-df-buttons div {\n",
              "      margin-bottom: 4px;\n",
              "    }\n",
              "\n",
              "    [theme=dark] .colab-df-convert {\n",
              "      background-color: #3B4455;\n",
              "      fill: #D2E3FC;\n",
              "    }\n",
              "\n",
              "    [theme=dark] .colab-df-convert:hover {\n",
              "      background-color: #434B5C;\n",
              "      box-shadow: 0px 1px 3px 1px rgba(0, 0, 0, 0.15);\n",
              "      filter: drop-shadow(0px 1px 2px rgba(0, 0, 0, 0.3));\n",
              "      fill: #FFFFFF;\n",
              "    }\n",
              "  </style>\n",
              "\n",
              "    <script>\n",
              "      const buttonEl =\n",
              "        document.querySelector('#df-29bf693e-7142-46e0-b469-aed27d2364fe button.colab-df-convert');\n",
              "      buttonEl.style.display =\n",
              "        google.colab.kernel.accessAllowed ? 'block' : 'none';\n",
              "\n",
              "      async function convertToInteractive(key) {\n",
              "        const element = document.querySelector('#df-29bf693e-7142-46e0-b469-aed27d2364fe');\n",
              "        const dataTable =\n",
              "          await google.colab.kernel.invokeFunction('convertToInteractive',\n",
              "                                                    [key], {});\n",
              "        if (!dataTable) return;\n",
              "\n",
              "        const docLinkHtml = 'Like what you see? Visit the ' +\n",
              "          '<a target=\"_blank\" href=https://colab.research.google.com/notebooks/data_table.ipynb>data table notebook</a>'\n",
              "          + ' to learn more about interactive tables.';\n",
              "        element.innerHTML = '';\n",
              "        dataTable['output_type'] = 'display_data';\n",
              "        await google.colab.output.renderOutput(dataTable, element);\n",
              "        const docLink = document.createElement('div');\n",
              "        docLink.innerHTML = docLinkHtml;\n",
              "        element.appendChild(docLink);\n",
              "      }\n",
              "    </script>\n",
              "  </div>\n",
              "\n",
              "\n",
              "<div id=\"df-e4bbe60f-1865-43e3-931b-277cc1191a91\">\n",
              "  <button class=\"colab-df-quickchart\" onclick=\"quickchart('df-e4bbe60f-1865-43e3-931b-277cc1191a91')\"\n",
              "            title=\"Suggest charts\"\n",
              "            style=\"display:none;\">\n",
              "\n",
              "<svg xmlns=\"http://www.w3.org/2000/svg\" height=\"24px\"viewBox=\"0 0 24 24\"\n",
              "     width=\"24px\">\n",
              "    <g>\n",
              "        <path d=\"M19 3H5c-1.1 0-2 .9-2 2v14c0 1.1.9 2 2 2h14c1.1 0 2-.9 2-2V5c0-1.1-.9-2-2-2zM9 17H7v-7h2v7zm4 0h-2V7h2v10zm4 0h-2v-4h2v4z\"/>\n",
              "    </g>\n",
              "</svg>\n",
              "  </button>\n",
              "\n",
              "<style>\n",
              "  .colab-df-quickchart {\n",
              "      --bg-color: #E8F0FE;\n",
              "      --fill-color: #1967D2;\n",
              "      --hover-bg-color: #E2EBFA;\n",
              "      --hover-fill-color: #174EA6;\n",
              "      --disabled-fill-color: #AAA;\n",
              "      --disabled-bg-color: #DDD;\n",
              "  }\n",
              "\n",
              "  [theme=dark] .colab-df-quickchart {\n",
              "      --bg-color: #3B4455;\n",
              "      --fill-color: #D2E3FC;\n",
              "      --hover-bg-color: #434B5C;\n",
              "      --hover-fill-color: #FFFFFF;\n",
              "      --disabled-bg-color: #3B4455;\n",
              "      --disabled-fill-color: #666;\n",
              "  }\n",
              "\n",
              "  .colab-df-quickchart {\n",
              "    background-color: var(--bg-color);\n",
              "    border: none;\n",
              "    border-radius: 50%;\n",
              "    cursor: pointer;\n",
              "    display: none;\n",
              "    fill: var(--fill-color);\n",
              "    height: 32px;\n",
              "    padding: 0;\n",
              "    width: 32px;\n",
              "  }\n",
              "\n",
              "  .colab-df-quickchart:hover {\n",
              "    background-color: var(--hover-bg-color);\n",
              "    box-shadow: 0 1px 2px rgba(60, 64, 67, 0.3), 0 1px 3px 1px rgba(60, 64, 67, 0.15);\n",
              "    fill: var(--button-hover-fill-color);\n",
              "  }\n",
              "\n",
              "  .colab-df-quickchart-complete:disabled,\n",
              "  .colab-df-quickchart-complete:disabled:hover {\n",
              "    background-color: var(--disabled-bg-color);\n",
              "    fill: var(--disabled-fill-color);\n",
              "    box-shadow: none;\n",
              "  }\n",
              "\n",
              "  .colab-df-spinner {\n",
              "    border: 2px solid var(--fill-color);\n",
              "    border-color: transparent;\n",
              "    border-bottom-color: var(--fill-color);\n",
              "    animation:\n",
              "      spin 1s steps(1) infinite;\n",
              "  }\n",
              "\n",
              "  @keyframes spin {\n",
              "    0% {\n",
              "      border-color: transparent;\n",
              "      border-bottom-color: var(--fill-color);\n",
              "      border-left-color: var(--fill-color);\n",
              "    }\n",
              "    20% {\n",
              "      border-color: transparent;\n",
              "      border-left-color: var(--fill-color);\n",
              "      border-top-color: var(--fill-color);\n",
              "    }\n",
              "    30% {\n",
              "      border-color: transparent;\n",
              "      border-left-color: var(--fill-color);\n",
              "      border-top-color: var(--fill-color);\n",
              "      border-right-color: var(--fill-color);\n",
              "    }\n",
              "    40% {\n",
              "      border-color: transparent;\n",
              "      border-right-color: var(--fill-color);\n",
              "      border-top-color: var(--fill-color);\n",
              "    }\n",
              "    60% {\n",
              "      border-color: transparent;\n",
              "      border-right-color: var(--fill-color);\n",
              "    }\n",
              "    80% {\n",
              "      border-color: transparent;\n",
              "      border-right-color: var(--fill-color);\n",
              "      border-bottom-color: var(--fill-color);\n",
              "    }\n",
              "    90% {\n",
              "      border-color: transparent;\n",
              "      border-bottom-color: var(--fill-color);\n",
              "    }\n",
              "  }\n",
              "</style>\n",
              "\n",
              "  <script>\n",
              "    async function quickchart(key) {\n",
              "      const quickchartButtonEl =\n",
              "        document.querySelector('#' + key + ' button');\n",
              "      quickchartButtonEl.disabled = true;  // To prevent multiple clicks.\n",
              "      quickchartButtonEl.classList.add('colab-df-spinner');\n",
              "      try {\n",
              "        const charts = await google.colab.kernel.invokeFunction(\n",
              "            'suggestCharts', [key], {});\n",
              "      } catch (error) {\n",
              "        console.error('Error during call to suggestCharts:', error);\n",
              "      }\n",
              "      quickchartButtonEl.classList.remove('colab-df-spinner');\n",
              "      quickchartButtonEl.classList.add('colab-df-quickchart-complete');\n",
              "    }\n",
              "    (() => {\n",
              "      let quickchartButtonEl =\n",
              "        document.querySelector('#df-e4bbe60f-1865-43e3-931b-277cc1191a91 button');\n",
              "      quickchartButtonEl.style.display =\n",
              "        google.colab.kernel.accessAllowed ? 'block' : 'none';\n",
              "    })();\n",
              "  </script>\n",
              "</div>\n",
              "    </div>\n",
              "  </div>\n"
            ],
            "application/vnd.google.colaboratory.intrinsic+json": {
              "type": "dataframe",
              "variable_name": "bow_cv_df",
              "summary": "{\n  \"name\": \"bow_cv_df\",\n  \"rows\": 4,\n  \"fields\": [\n    {\n      \"column\": \"art\",\n      \"properties\": {\n        \"dtype\": \"number\",\n        \"std\": 0,\n        \"min\": 0,\n        \"max\": 1,\n        \"num_unique_values\": 2,\n        \"samples\": [\n          1,\n          0\n        ],\n        \"semantic_type\": \"\",\n        \"description\": \"\"\n      }\n    },\n    {\n      \"column\": \"enourmous\",\n      \"properties\": {\n        \"dtype\": \"number\",\n        \"std\": 0,\n        \"min\": 0,\n        \"max\": 1,\n        \"num_unique_values\": 2,\n        \"samples\": [\n          1,\n          0\n        ],\n        \"semantic_type\": \"\",\n        \"description\": \"\"\n      }\n    },\n    {\n      \"column\": \"hours\",\n      \"properties\": {\n        \"dtype\": \"number\",\n        \"std\": 0,\n        \"min\": 0,\n        \"max\": 1,\n        \"num_unique_values\": 2,\n        \"samples\": [\n          1,\n          0\n        ],\n        \"semantic_type\": \"\",\n        \"description\": \"\"\n      }\n    },\n    {\n      \"column\": \"interested\",\n      \"properties\": {\n        \"dtype\": \"number\",\n        \"std\": 0,\n        \"min\": 0,\n        \"max\": 1,\n        \"num_unique_values\": 2,\n        \"samples\": [\n          1,\n          0\n        ],\n        \"semantic_type\": \"\",\n        \"description\": \"\"\n      }\n    },\n    {\n      \"column\": \"largest\",\n      \"properties\": {\n        \"dtype\": \"number\",\n        \"std\": 0,\n        \"min\": 0,\n        \"max\": 1,\n        \"num_unique_values\": 2,\n        \"samples\": [\n          1,\n          0\n        ],\n        \"semantic_type\": \"\",\n        \"description\": \"\"\n      }\n    },\n    {\n      \"column\": \"lot\",\n      \"properties\": {\n        \"dtype\": \"number\",\n        \"std\": 0,\n        \"min\": 0,\n        \"max\": 1,\n        \"num_unique_values\": 2,\n        \"samples\": [\n          0,\n          1\n        ],\n        \"semantic_type\": \"\",\n        \"description\": \"\"\n      }\n    },\n    {\n      \"column\": \"louvre\",\n      \"properties\": {\n        \"dtype\": \"number\",\n        \"std\": 0,\n        \"min\": 0,\n        \"max\": 1,\n        \"num_unique_values\": 2,\n        \"samples\": [\n          1,\n          0\n        ],\n        \"semantic_type\": \"\",\n        \"description\": \"\"\n      }\n    },\n    {\n      \"column\": \"museum\",\n      \"properties\": {\n        \"dtype\": \"number\",\n        \"std\": 0,\n        \"min\": 0,\n        \"max\": 1,\n        \"num_unique_values\": 2,\n        \"samples\": [\n          1,\n          0\n        ],\n        \"semantic_type\": \"\",\n        \"description\": \"\"\n      }\n    },\n    {\n      \"column\": \"museums\",\n      \"properties\": {\n        \"dtype\": \"number\",\n        \"std\": 0,\n        \"min\": 0,\n        \"max\": 1,\n        \"num_unique_values\": 2,\n        \"samples\": [\n          0,\n          1\n        ],\n        \"semantic_type\": \"\",\n        \"description\": \"\"\n      }\n    },\n    {\n      \"column\": \"paris\",\n      \"properties\": {\n        \"dtype\": \"number\",\n        \"std\": 0,\n        \"min\": 0,\n        \"max\": 1,\n        \"num_unique_values\": 2,\n        \"samples\": [\n          0,\n          1\n        ],\n        \"semantic_type\": \"\",\n        \"description\": \"\"\n      }\n    },\n    {\n      \"column\": \"spent\",\n      \"properties\": {\n        \"dtype\": \"number\",\n        \"std\": 0,\n        \"min\": 0,\n        \"max\": 1,\n        \"num_unique_values\": 2,\n        \"samples\": [\n          1,\n          0\n        ],\n        \"semantic_type\": \"\",\n        \"description\": \"\"\n      }\n    },\n    {\n      \"column\": \"visited\",\n      \"properties\": {\n        \"dtype\": \"number\",\n        \"std\": 0,\n        \"min\": 0,\n        \"max\": 1,\n        \"num_unique_values\": 2,\n        \"samples\": [\n          0,\n          1\n        ],\n        \"semantic_type\": \"\",\n        \"description\": \"\"\n      }\n    },\n    {\n      \"column\": \"week\",\n      \"properties\": {\n        \"dtype\": \"number\",\n        \"std\": 0,\n        \"min\": 0,\n        \"max\": 1,\n        \"num_unique_values\": 2,\n        \"samples\": [\n          1,\n          0\n        ],\n        \"semantic_type\": \"\",\n        \"description\": \"\"\n      }\n    },\n    {\n      \"column\": \"went\",\n      \"properties\": {\n        \"dtype\": \"number\",\n        \"std\": 0,\n        \"min\": 0,\n        \"max\": 1,\n        \"num_unique_values\": 2,\n        \"samples\": [\n          1,\n          0\n        ],\n        \"semantic_type\": \"\",\n        \"description\": \"\"\n      }\n    },\n    {\n      \"column\": \"world\",\n      \"properties\": {\n        \"dtype\": \"number\",\n        \"std\": 0,\n        \"min\": 0,\n        \"max\": 1,\n        \"num_unique_values\": 2,\n        \"samples\": [\n          1,\n          0\n        ],\n        \"semantic_type\": \"\",\n        \"description\": \"\"\n      }\n    }\n  ]\n}"
            }
          },
          "metadata": {},
          "execution_count": 52
        }
      ]
    },
    {
      "cell_type": "markdown",
      "metadata": {
        "id": "ahoLL6IhwVRH"
      },
      "source": [
        "### TF-IDF"
      ]
    },
    {
      "cell_type": "markdown",
      "metadata": {
        "id": "GVomqbuze8nz"
      },
      "source": [
        "#### Method 1. CountVectorizer + TfidfTransformer\n"
      ]
    },
    {
      "cell_type": "markdown",
      "metadata": {
        "id": "023pB7-taywP"
      },
      "source": [
        "1) Calculation of TF, term frequency, word frequency\n"
      ]
    },
    {
      "cell_type": "code",
      "metadata": {
        "id": "VRaJjVB3f0By",
        "colab": {
          "base_uri": "https://localhost:8080/"
        },
        "outputId": "3a2bdc2e-15cc-4881-f03b-0d65ae426ad3"
      },
      "source": [
        "# We have already completed this step above\n",
        "bow_cv"
      ],
      "execution_count": 53,
      "outputs": [
        {
          "output_type": "execute_result",
          "data": {
            "text/plain": [
              "<4x15 sparse matrix of type '<class 'numpy.int64'>'\n",
              "\twith 17 stored elements in Compressed Sparse Row format>"
            ]
          },
          "metadata": {},
          "execution_count": 53
        }
      ]
    },
    {
      "cell_type": "markdown",
      "metadata": {
        "id": "qtVVXeMYbBMJ"
      },
      "source": [
        "2) Now you need to calculate the IDF"
      ]
    },
    {
      "cell_type": "code",
      "metadata": {
        "id": "kZd-UCdufc-Z"
      },
      "source": [
        "# importing TfidfTransformer (CountVectorizer has already been imported)\n",
        "from sklearn.feature_extraction.text import TfidfTransformer\n",
        "\n",
        "# creating an object of the Tf idf Transformer class\n",
        "tfidf_trans = TfidfTransformer(smooth_idf = True, use_idf = True)\n",
        "\n",
        "# and calculate the IDF of words\n",
        "tfidf_trans.fit(bow_cv)\n",
        "\n",
        "# putting the result in a dataframe\n",
        "df_idf = pd.DataFrame(tfidf_trans.idf_, index = tokens, columns = [\"idf_weights\"])\n",
        "#df_idf"
      ],
      "execution_count": 54,
      "outputs": []
    },
    {
      "cell_type": "markdown",
      "metadata": {
        "id": "1TTWk4ZxbPHB"
      },
      "source": [
        "3) That leaves TFxIDF"
      ]
    },
    {
      "cell_type": "code",
      "metadata": {
        "id": "GSCVgjQbWw4P",
        "colab": {
          "base_uri": "https://localhost:8080/"
        },
        "outputId": "1c21d1d1-1223-4cb4-bb43-51b9f68083f6"
      },
      "source": [
        "# calculate TF-IDF (in fact, multiply TF by IDF)\n",
        "tf_idf_vector = tfidf_trans.transform(bow_cv)\n",
        "tf_idf_vector"
      ],
      "execution_count": 55,
      "outputs": [
        {
          "output_type": "execute_result",
          "data": {
            "text/plain": [
              "<4x15 sparse matrix of type '<class 'numpy.float64'>'\n",
              "\twith 17 stored elements in Compressed Sparse Row format>"
            ]
          },
          "metadata": {},
          "execution_count": 55
        }
      ]
    },
    {
      "cell_type": "code",
      "metadata": {
        "id": "zJ0XAN5KXC94",
        "colab": {
          "base_uri": "https://localhost:8080/"
        },
        "outputId": "77eefb27-fd86-402f-fa29-c28d84d3bb00"
      },
      "source": [
        "# Now we can look at the TF-IDF score for a specific word in a specific document\n",
        "\n",
        "# to do this, we will convert the csr matrix into a regular Numpy array\n",
        "df_tfidf = pd.DataFrame(tf_idf_vector.toarray(), columns = vectorizer.get_feature_names_out())\n",
        "\n",
        "# and transpose it (write the columns as rows)\n",
        "print(df_tfidf.T)"
      ],
      "execution_count": 56,
      "outputs": [
        {
          "output_type": "stream",
          "name": "stdout",
          "text": [
            "              0         1         2         3\n",
            "art         0.0  0.344315  0.414289  0.000000\n",
            "enourmous   0.0  0.000000  0.000000  0.617614\n",
            "hours       0.0  0.000000  0.525473  0.000000\n",
            "interested  0.0  0.000000  0.525473  0.000000\n",
            "largest     0.0  0.436719  0.000000  0.000000\n",
            "lot         0.5  0.000000  0.000000  0.000000\n",
            "louvre      0.0  0.436719  0.000000  0.000000\n",
            "museum      0.0  0.344315  0.000000  0.486934\n",
            "museums     0.5  0.000000  0.000000  0.000000\n",
            "paris       0.5  0.000000  0.000000  0.000000\n",
            "spent       0.0  0.000000  0.525473  0.000000\n",
            "visited     0.5  0.000000  0.000000  0.000000\n",
            "week        0.0  0.000000  0.000000  0.617614\n",
            "went        0.0  0.436719  0.000000  0.000000\n",
            "world       0.0  0.436719  0.000000  0.000000\n"
          ]
        }
      ]
    },
    {
      "cell_type": "code",
      "metadata": {
        "id": "cZrpXBjrvC9h",
        "colab": {
          "base_uri": "https://localhost:8080/"
        },
        "outputId": "caa10c09-edf9-4206-9804-f6f32957352a"
      },
      "source": [
        "# let's see how many words this method has left after processing\n",
        "df_tfidf.T.shape"
      ],
      "execution_count": 57,
      "outputs": [
        {
          "output_type": "execute_result",
          "data": {
            "text/plain": [
              "(15, 4)"
            ]
          },
          "metadata": {},
          "execution_count": 57
        }
      ]
    },
    {
      "cell_type": "markdown",
      "metadata": {
        "id": "xv0WfZ87fjEp"
      },
      "source": [
        "#### Method 2. TfidfVectorizer"
      ]
    },
    {
      "cell_type": "code",
      "metadata": {
        "id": "1H6YPRJqzVtA"
      },
      "source": [
        "# importing the class TfidfVectorizer\n",
        "from sklearn.feature_extraction.text import TfidfVectorizer"
      ],
      "execution_count": 58,
      "outputs": []
    },
    {
      "cell_type": "code",
      "metadata": {
        "id": "YEMHdtT738h_",
        "colab": {
          "base_uri": "https://localhost:8080/"
        },
        "outputId": "0500b2c6-33cc-4f36-e652-61218e5b2f25"
      },
      "source": [
        "# creating an object of the TfidfVectorizer class\n",
        "tfIdfVectorizer = TfidfVectorizer(use_idf = True, stop_words= 'english')\n",
        "\n",
        "# we immediately calculate the TF-IDF of words\n",
        "tfIdf = tfIdfVectorizer.fit_transform(sentences)\n",
        "tfIdf"
      ],
      "execution_count": 59,
      "outputs": [
        {
          "output_type": "execute_result",
          "data": {
            "text/plain": [
              "<4x15 sparse matrix of type '<class 'numpy.float64'>'\n",
              "\twith 17 stored elements in Compressed Sparse Row format>"
            ]
          },
          "metadata": {},
          "execution_count": 59
        }
      ]
    },
    {
      "cell_type": "code",
      "metadata": {
        "id": "4TAi6sbS9_Bn",
        "colab": {
          "base_uri": "https://localhost:8080/"
        },
        "outputId": "ecd8035d-00a9-4e9c-94a2-6ec904357e9e"
      },
      "source": [
        "# you can see which words are left after filtering\n",
        "print(tfIdfVectorizer.get_feature_names_out())"
      ],
      "execution_count": 60,
      "outputs": [
        {
          "output_type": "stream",
          "name": "stdout",
          "text": [
            "['art' 'enourmous' 'hours' 'interested' 'largest' 'lot' 'louvre' 'museum'\n",
            " 'museums' 'paris' 'spent' 'visited' 'week' 'went' 'world']\n"
          ]
        }
      ]
    },
    {
      "cell_type": "code",
      "metadata": {
        "id": "hwlWpb2HD6MI",
        "colab": {
          "base_uri": "https://localhost:8080/"
        },
        "outputId": "5326f8f7-3c90-46ca-e1b7-788659eb4a9b"
      },
      "source": [
        "# You can also view the IDF of the words\n",
        "tfIdfVectorizer.idf_"
      ],
      "execution_count": 61,
      "outputs": [
        {
          "output_type": "execute_result",
          "data": {
            "text/plain": [
              "array([1.51082562, 1.91629073, 1.91629073, 1.91629073, 1.91629073,\n",
              "       1.91629073, 1.91629073, 1.51082562, 1.91629073, 1.91629073,\n",
              "       1.91629073, 1.91629073, 1.91629073, 1.91629073, 1.91629073])"
            ]
          },
          "metadata": {},
          "execution_count": 61
        }
      ]
    },
    {
      "cell_type": "code",
      "metadata": {
        "id": "XdyuC_xvFkNW"
      },
      "source": [
        "# through a dataframe, we can link words and their IDF\n",
        "\n",
        "df_idf = pd.DataFrame(tfIdfVectorizer.idf_, index = tfIdfVectorizer.get_feature_names_out(), columns = ['idf_weights'])\n",
        "# df_idf.sort_values(by = 'idf_weights', ascending = False)"
      ],
      "execution_count": 62,
      "outputs": []
    },
    {
      "cell_type": "code",
      "metadata": {
        "id": "pqDnLtnDA83v",
        "colab": {
          "base_uri": "https://localhost:8080/"
        },
        "outputId": "61a87c42-af1d-4ef8-e631-1cc97044a7dc"
      },
      "source": [
        "# number of sentences (documents) x number of words\n",
        "tfIdf.shape"
      ],
      "execution_count": 63,
      "outputs": [
        {
          "output_type": "execute_result",
          "data": {
            "text/plain": [
              "(4, 15)"
            ]
          },
          "metadata": {},
          "execution_count": 63
        }
      ]
    },
    {
      "cell_type": "markdown",
      "metadata": {
        "id": "bjsM-1rrj3ro"
      },
      "source": [
        "Calculating the TF-IDF value for each word in each text\n"
      ]
    },
    {
      "cell_type": "code",
      "metadata": {
        "id": "A47DW6LcAd4n",
        "colab": {
          "base_uri": "https://localhost:8080/"
        },
        "outputId": "f61d803c-dc76-4db5-8f42-d937d2596f7d"
      },
      "source": [
        "# and finally, the very meaning of TF-IDF for a specific word in a specific document\n",
        "# the more unique it is for a particular document, the higher the indicator\n",
        "df_tfidf = pd.DataFrame(tfIdf.toarray(), columns = tfIdfVectorizer.get_feature_names_out())\n",
        "print(df_tfidf.T)"
      ],
      "execution_count": 64,
      "outputs": [
        {
          "output_type": "stream",
          "name": "stdout",
          "text": [
            "              0         1         2         3\n",
            "art         0.0  0.344315  0.414289  0.000000\n",
            "enourmous   0.0  0.000000  0.000000  0.617614\n",
            "hours       0.0  0.000000  0.525473  0.000000\n",
            "interested  0.0  0.000000  0.525473  0.000000\n",
            "largest     0.0  0.436719  0.000000  0.000000\n",
            "lot         0.5  0.000000  0.000000  0.000000\n",
            "louvre      0.0  0.436719  0.000000  0.000000\n",
            "museum      0.0  0.344315  0.000000  0.486934\n",
            "museums     0.5  0.000000  0.000000  0.000000\n",
            "paris       0.5  0.000000  0.000000  0.000000\n",
            "spent       0.0  0.000000  0.525473  0.000000\n",
            "visited     0.5  0.000000  0.000000  0.000000\n",
            "week        0.0  0.000000  0.000000  0.617614\n",
            "went        0.0  0.436719  0.000000  0.000000\n",
            "world       0.0  0.436719  0.000000  0.000000\n"
          ]
        }
      ]
    },
    {
      "cell_type": "markdown",
      "metadata": {
        "id": "FbD1jsJ4epdk"
      },
      "source": [
        "Calculating the average TF-IDF value for each word across all texts"
      ]
    },
    {
      "cell_type": "code",
      "metadata": {
        "id": "IbRZhvrreGP8",
        "colab": {
          "base_uri": "https://localhost:8080/"
        },
        "outputId": "76384b50-cfcc-4dfb-b488-0286178d19c3"
      },
      "source": [
        "# calculate the arithmetic mean of the rows (axis = 0)\n",
        "tfIdf.mean(axis = 0)"
      ],
      "execution_count": 65,
      "outputs": [
        {
          "output_type": "execute_result",
          "data": {
            "text/plain": [
              "matrix([[0.18965082, 0.15440359, 0.13136819, 0.13136819, 0.10917983,\n",
              "         0.125     , 0.10917983, 0.2078122 , 0.125     , 0.125     ,\n",
              "         0.13136819, 0.125     , 0.15440359, 0.10917983, 0.10917983]])"
            ]
          },
          "metadata": {},
          "execution_count": 65
        }
      ]
    },
    {
      "cell_type": "code",
      "metadata": {
        "id": "-Q8tWmeqdqnZ",
        "colab": {
          "base_uri": "https://localhost:8080/"
        },
        "outputId": "7a961f66-abb6-4683-9168-ae4e8b916959"
      },
      "source": [
        "# converting the matrix to a Numpy array\n",
        "np.asarray(tfIdf.mean(axis = 0))"
      ],
      "execution_count": 66,
      "outputs": [
        {
          "output_type": "execute_result",
          "data": {
            "text/plain": [
              "array([[0.18965082, 0.15440359, 0.13136819, 0.13136819, 0.10917983,\n",
              "        0.125     , 0.10917983, 0.2078122 , 0.125     , 0.125     ,\n",
              "        0.13136819, 0.125     , 0.15440359, 0.10917983, 0.10917983]])"
            ]
          },
          "metadata": {},
          "execution_count": 66
        }
      ]
    },
    {
      "cell_type": "code",
      "metadata": {
        "id": "jg4bzPltfK4o",
        "colab": {
          "base_uri": "https://localhost:8080/"
        },
        "outputId": "402a6718-73f2-4d7d-c6c5-874feb80f30b"
      },
      "source": [
        "# see how many dimensions there are\n",
        "np.asarray(tfIdf.mean(axis = 0)).shape"
      ],
      "execution_count": 67,
      "outputs": [
        {
          "output_type": "execute_result",
          "data": {
            "text/plain": [
              "(1, 15)"
            ]
          },
          "metadata": {},
          "execution_count": 67
        }
      ]
    },
    {
      "cell_type": "code",
      "metadata": {
        "id": "kt5SB4N1d2Oy",
        "colab": {
          "base_uri": "https://localhost:8080/"
        },
        "outputId": "05254289-5811-4c17-87d6-2dcc0a4c013b"
      },
      "source": [
        "# remove the second dimension\n",
        "np.asarray(tfIdf.mean(axis = 0)).ravel()"
      ],
      "execution_count": 68,
      "outputs": [
        {
          "output_type": "execute_result",
          "data": {
            "text/plain": [
              "array([0.18965082, 0.15440359, 0.13136819, 0.13136819, 0.10917983,\n",
              "       0.125     , 0.10917983, 0.2078122 , 0.125     , 0.125     ,\n",
              "       0.13136819, 0.125     , 0.15440359, 0.10917983, 0.10917983])"
            ]
          },
          "metadata": {},
          "execution_count": 68
        }
      ]
    },
    {
      "cell_type": "code",
      "metadata": {
        "id": "S2rUNoQ_fWk5",
        "colab": {
          "base_uri": "https://localhost:8080/"
        },
        "outputId": "ed98ecb9-ff54-4b18-ecfc-ea7e68757528"
      },
      "source": [
        "# we look at the dimension again\n",
        "np.asarray(tfIdf.mean(axis = 0)).ravel().shape"
      ],
      "execution_count": 69,
      "outputs": [
        {
          "output_type": "execute_result",
          "data": {
            "text/plain": [
              "(15,)"
            ]
          },
          "metadata": {},
          "execution_count": 69
        }
      ]
    },
    {
      "cell_type": "code",
      "metadata": {
        "id": "LVL8dWLjKsD1",
        "colab": {
          "base_uri": "https://localhost:8080/"
        },
        "outputId": "3c303b34-2b87-4cbd-8165-167e8b10f814"
      },
      "source": [
        "# convert it to a list\n",
        "mean_weights = np.asarray(tfIdf.mean(axis = 0)).ravel().tolist()\n",
        "mean_weights"
      ],
      "execution_count": 70,
      "outputs": [
        {
          "output_type": "execute_result",
          "data": {
            "text/plain": [
              "[0.18965081782108964,\n",
              " 0.15440359274390048,\n",
              " 0.13136818731601646,\n",
              " 0.13136818731601646,\n",
              " 0.10917982746877804,\n",
              " 0.125,\n",
              " 0.10917982746877804,\n",
              " 0.2078121960479979,\n",
              " 0.125,\n",
              " 0.125,\n",
              " 0.13136818731601646,\n",
              " 0.125,\n",
              " 0.15440359274390048,\n",
              " 0.10917982746877804,\n",
              " 0.10917982746877804]"
            ]
          },
          "metadata": {},
          "execution_count": 70
        }
      ]
    },
    {
      "cell_type": "code",
      "metadata": {
        "id": "SzUBcddZKvqU",
        "colab": {
          "base_uri": "https://localhost:8080/",
          "height": 362
        },
        "outputId": "aa63d2e6-b0eb-4d25-9ccc-07fbc28f9827"
      },
      "source": [
        "# creating a dataframe from the dictionary\n",
        "mean_weights_df = pd.DataFrame({'term': tfIdfVectorizer.get_feature_names_out(), 'mean_weights': mean_weights})\n",
        "\n",
        "# we sort 10 words in descending order with the maximum average TF-IDF\n",
        "mean_weights_df.sort_values(by = 'mean_weights', ascending = False).reset_index(drop = True).head(10)"
      ],
      "execution_count": 71,
      "outputs": [
        {
          "output_type": "execute_result",
          "data": {
            "text/plain": [
              "         term  mean_weights\n",
              "0      museum      0.207812\n",
              "1         art      0.189651\n",
              "2   enourmous      0.154404\n",
              "3        week      0.154404\n",
              "4       hours      0.131368\n",
              "5  interested      0.131368\n",
              "6       spent      0.131368\n",
              "7         lot      0.125000\n",
              "8     museums      0.125000\n",
              "9       paris      0.125000"
            ],
            "text/html": [
              "\n",
              "  <div id=\"df-cef5ebbe-abbe-4b8d-87d9-b26a85d9d7df\" class=\"colab-df-container\">\n",
              "    <div>\n",
              "<style scoped>\n",
              "    .dataframe tbody tr th:only-of-type {\n",
              "        vertical-align: middle;\n",
              "    }\n",
              "\n",
              "    .dataframe tbody tr th {\n",
              "        vertical-align: top;\n",
              "    }\n",
              "\n",
              "    .dataframe thead th {\n",
              "        text-align: right;\n",
              "    }\n",
              "</style>\n",
              "<table border=\"1\" class=\"dataframe\">\n",
              "  <thead>\n",
              "    <tr style=\"text-align: right;\">\n",
              "      <th></th>\n",
              "      <th>term</th>\n",
              "      <th>mean_weights</th>\n",
              "    </tr>\n",
              "  </thead>\n",
              "  <tbody>\n",
              "    <tr>\n",
              "      <th>0</th>\n",
              "      <td>museum</td>\n",
              "      <td>0.207812</td>\n",
              "    </tr>\n",
              "    <tr>\n",
              "      <th>1</th>\n",
              "      <td>art</td>\n",
              "      <td>0.189651</td>\n",
              "    </tr>\n",
              "    <tr>\n",
              "      <th>2</th>\n",
              "      <td>enourmous</td>\n",
              "      <td>0.154404</td>\n",
              "    </tr>\n",
              "    <tr>\n",
              "      <th>3</th>\n",
              "      <td>week</td>\n",
              "      <td>0.154404</td>\n",
              "    </tr>\n",
              "    <tr>\n",
              "      <th>4</th>\n",
              "      <td>hours</td>\n",
              "      <td>0.131368</td>\n",
              "    </tr>\n",
              "    <tr>\n",
              "      <th>5</th>\n",
              "      <td>interested</td>\n",
              "      <td>0.131368</td>\n",
              "    </tr>\n",
              "    <tr>\n",
              "      <th>6</th>\n",
              "      <td>spent</td>\n",
              "      <td>0.131368</td>\n",
              "    </tr>\n",
              "    <tr>\n",
              "      <th>7</th>\n",
              "      <td>lot</td>\n",
              "      <td>0.125000</td>\n",
              "    </tr>\n",
              "    <tr>\n",
              "      <th>8</th>\n",
              "      <td>museums</td>\n",
              "      <td>0.125000</td>\n",
              "    </tr>\n",
              "    <tr>\n",
              "      <th>9</th>\n",
              "      <td>paris</td>\n",
              "      <td>0.125000</td>\n",
              "    </tr>\n",
              "  </tbody>\n",
              "</table>\n",
              "</div>\n",
              "    <div class=\"colab-df-buttons\">\n",
              "\n",
              "  <div class=\"colab-df-container\">\n",
              "    <button class=\"colab-df-convert\" onclick=\"convertToInteractive('df-cef5ebbe-abbe-4b8d-87d9-b26a85d9d7df')\"\n",
              "            title=\"Convert this dataframe to an interactive table.\"\n",
              "            style=\"display:none;\">\n",
              "\n",
              "  <svg xmlns=\"http://www.w3.org/2000/svg\" height=\"24px\" viewBox=\"0 -960 960 960\">\n",
              "    <path d=\"M120-120v-720h720v720H120Zm60-500h600v-160H180v160Zm220 220h160v-160H400v160Zm0 220h160v-160H400v160ZM180-400h160v-160H180v160Zm440 0h160v-160H620v160ZM180-180h160v-160H180v160Zm440 0h160v-160H620v160Z\"/>\n",
              "  </svg>\n",
              "    </button>\n",
              "\n",
              "  <style>\n",
              "    .colab-df-container {\n",
              "      display:flex;\n",
              "      gap: 12px;\n",
              "    }\n",
              "\n",
              "    .colab-df-convert {\n",
              "      background-color: #E8F0FE;\n",
              "      border: none;\n",
              "      border-radius: 50%;\n",
              "      cursor: pointer;\n",
              "      display: none;\n",
              "      fill: #1967D2;\n",
              "      height: 32px;\n",
              "      padding: 0 0 0 0;\n",
              "      width: 32px;\n",
              "    }\n",
              "\n",
              "    .colab-df-convert:hover {\n",
              "      background-color: #E2EBFA;\n",
              "      box-shadow: 0px 1px 2px rgba(60, 64, 67, 0.3), 0px 1px 3px 1px rgba(60, 64, 67, 0.15);\n",
              "      fill: #174EA6;\n",
              "    }\n",
              "\n",
              "    .colab-df-buttons div {\n",
              "      margin-bottom: 4px;\n",
              "    }\n",
              "\n",
              "    [theme=dark] .colab-df-convert {\n",
              "      background-color: #3B4455;\n",
              "      fill: #D2E3FC;\n",
              "    }\n",
              "\n",
              "    [theme=dark] .colab-df-convert:hover {\n",
              "      background-color: #434B5C;\n",
              "      box-shadow: 0px 1px 3px 1px rgba(0, 0, 0, 0.15);\n",
              "      filter: drop-shadow(0px 1px 2px rgba(0, 0, 0, 0.3));\n",
              "      fill: #FFFFFF;\n",
              "    }\n",
              "  </style>\n",
              "\n",
              "    <script>\n",
              "      const buttonEl =\n",
              "        document.querySelector('#df-cef5ebbe-abbe-4b8d-87d9-b26a85d9d7df button.colab-df-convert');\n",
              "      buttonEl.style.display =\n",
              "        google.colab.kernel.accessAllowed ? 'block' : 'none';\n",
              "\n",
              "      async function convertToInteractive(key) {\n",
              "        const element = document.querySelector('#df-cef5ebbe-abbe-4b8d-87d9-b26a85d9d7df');\n",
              "        const dataTable =\n",
              "          await google.colab.kernel.invokeFunction('convertToInteractive',\n",
              "                                                    [key], {});\n",
              "        if (!dataTable) return;\n",
              "\n",
              "        const docLinkHtml = 'Like what you see? Visit the ' +\n",
              "          '<a target=\"_blank\" href=https://colab.research.google.com/notebooks/data_table.ipynb>data table notebook</a>'\n",
              "          + ' to learn more about interactive tables.';\n",
              "        element.innerHTML = '';\n",
              "        dataTable['output_type'] = 'display_data';\n",
              "        await google.colab.output.renderOutput(dataTable, element);\n",
              "        const docLink = document.createElement('div');\n",
              "        docLink.innerHTML = docLinkHtml;\n",
              "        element.appendChild(docLink);\n",
              "      }\n",
              "    </script>\n",
              "  </div>\n",
              "\n",
              "\n",
              "<div id=\"df-5fe630a4-cb24-41fd-859f-1704f8051619\">\n",
              "  <button class=\"colab-df-quickchart\" onclick=\"quickchart('df-5fe630a4-cb24-41fd-859f-1704f8051619')\"\n",
              "            title=\"Suggest charts\"\n",
              "            style=\"display:none;\">\n",
              "\n",
              "<svg xmlns=\"http://www.w3.org/2000/svg\" height=\"24px\"viewBox=\"0 0 24 24\"\n",
              "     width=\"24px\">\n",
              "    <g>\n",
              "        <path d=\"M19 3H5c-1.1 0-2 .9-2 2v14c0 1.1.9 2 2 2h14c1.1 0 2-.9 2-2V5c0-1.1-.9-2-2-2zM9 17H7v-7h2v7zm4 0h-2V7h2v10zm4 0h-2v-4h2v4z\"/>\n",
              "    </g>\n",
              "</svg>\n",
              "  </button>\n",
              "\n",
              "<style>\n",
              "  .colab-df-quickchart {\n",
              "      --bg-color: #E8F0FE;\n",
              "      --fill-color: #1967D2;\n",
              "      --hover-bg-color: #E2EBFA;\n",
              "      --hover-fill-color: #174EA6;\n",
              "      --disabled-fill-color: #AAA;\n",
              "      --disabled-bg-color: #DDD;\n",
              "  }\n",
              "\n",
              "  [theme=dark] .colab-df-quickchart {\n",
              "      --bg-color: #3B4455;\n",
              "      --fill-color: #D2E3FC;\n",
              "      --hover-bg-color: #434B5C;\n",
              "      --hover-fill-color: #FFFFFF;\n",
              "      --disabled-bg-color: #3B4455;\n",
              "      --disabled-fill-color: #666;\n",
              "  }\n",
              "\n",
              "  .colab-df-quickchart {\n",
              "    background-color: var(--bg-color);\n",
              "    border: none;\n",
              "    border-radius: 50%;\n",
              "    cursor: pointer;\n",
              "    display: none;\n",
              "    fill: var(--fill-color);\n",
              "    height: 32px;\n",
              "    padding: 0;\n",
              "    width: 32px;\n",
              "  }\n",
              "\n",
              "  .colab-df-quickchart:hover {\n",
              "    background-color: var(--hover-bg-color);\n",
              "    box-shadow: 0 1px 2px rgba(60, 64, 67, 0.3), 0 1px 3px 1px rgba(60, 64, 67, 0.15);\n",
              "    fill: var(--button-hover-fill-color);\n",
              "  }\n",
              "\n",
              "  .colab-df-quickchart-complete:disabled,\n",
              "  .colab-df-quickchart-complete:disabled:hover {\n",
              "    background-color: var(--disabled-bg-color);\n",
              "    fill: var(--disabled-fill-color);\n",
              "    box-shadow: none;\n",
              "  }\n",
              "\n",
              "  .colab-df-spinner {\n",
              "    border: 2px solid var(--fill-color);\n",
              "    border-color: transparent;\n",
              "    border-bottom-color: var(--fill-color);\n",
              "    animation:\n",
              "      spin 1s steps(1) infinite;\n",
              "  }\n",
              "\n",
              "  @keyframes spin {\n",
              "    0% {\n",
              "      border-color: transparent;\n",
              "      border-bottom-color: var(--fill-color);\n",
              "      border-left-color: var(--fill-color);\n",
              "    }\n",
              "    20% {\n",
              "      border-color: transparent;\n",
              "      border-left-color: var(--fill-color);\n",
              "      border-top-color: var(--fill-color);\n",
              "    }\n",
              "    30% {\n",
              "      border-color: transparent;\n",
              "      border-left-color: var(--fill-color);\n",
              "      border-top-color: var(--fill-color);\n",
              "      border-right-color: var(--fill-color);\n",
              "    }\n",
              "    40% {\n",
              "      border-color: transparent;\n",
              "      border-right-color: var(--fill-color);\n",
              "      border-top-color: var(--fill-color);\n",
              "    }\n",
              "    60% {\n",
              "      border-color: transparent;\n",
              "      border-right-color: var(--fill-color);\n",
              "    }\n",
              "    80% {\n",
              "      border-color: transparent;\n",
              "      border-right-color: var(--fill-color);\n",
              "      border-bottom-color: var(--fill-color);\n",
              "    }\n",
              "    90% {\n",
              "      border-color: transparent;\n",
              "      border-bottom-color: var(--fill-color);\n",
              "    }\n",
              "  }\n",
              "</style>\n",
              "\n",
              "  <script>\n",
              "    async function quickchart(key) {\n",
              "      const quickchartButtonEl =\n",
              "        document.querySelector('#' + key + ' button');\n",
              "      quickchartButtonEl.disabled = true;  // To prevent multiple clicks.\n",
              "      quickchartButtonEl.classList.add('colab-df-spinner');\n",
              "      try {\n",
              "        const charts = await google.colab.kernel.invokeFunction(\n",
              "            'suggestCharts', [key], {});\n",
              "      } catch (error) {\n",
              "        console.error('Error during call to suggestCharts:', error);\n",
              "      }\n",
              "      quickchartButtonEl.classList.remove('colab-df-spinner');\n",
              "      quickchartButtonEl.classList.add('colab-df-quickchart-complete');\n",
              "    }\n",
              "    (() => {\n",
              "      let quickchartButtonEl =\n",
              "        document.querySelector('#df-5fe630a4-cb24-41fd-859f-1704f8051619 button');\n",
              "      quickchartButtonEl.style.display =\n",
              "        google.colab.kernel.accessAllowed ? 'block' : 'none';\n",
              "    })();\n",
              "  </script>\n",
              "</div>\n",
              "    </div>\n",
              "  </div>\n"
            ],
            "application/vnd.google.colaboratory.intrinsic+json": {
              "type": "dataframe",
              "summary": "{\n  \"name\": \"mean_weights_df\",\n  \"rows\": 10,\n  \"fields\": [\n    {\n      \"column\": \"term\",\n      \"properties\": {\n        \"dtype\": \"string\",\n        \"num_unique_values\": 10,\n        \"samples\": [\n          \"museums\",\n          \"art\",\n          \"interested\"\n        ],\n        \"semantic_type\": \"\",\n        \"description\": \"\"\n      }\n    },\n    {\n      \"column\": \"mean_weights\",\n      \"properties\": {\n        \"dtype\": \"number\",\n        \"std\": 0.0294562080185257,\n        \"min\": 0.125,\n        \"max\": 0.2078121960479979,\n        \"num_unique_values\": 5,\n        \"samples\": [\n          0.18965081782108964,\n          0.125,\n          0.15440359274390048\n        ],\n        \"semantic_type\": \"\",\n        \"description\": \"\"\n      }\n    }\n  ]\n}"
            }
          },
          "metadata": {},
          "execution_count": 71
        }
      ]
    },
    {
      "cell_type": "markdown",
      "source": [
        "The cosine distance between text vectors\n"
      ],
      "metadata": {
        "id": "2lehSjWkBG7j"
      }
    },
    {
      "cell_type": "code",
      "metadata": {
        "id": "NjAmyNKgL6l0"
      },
      "source": [
        "# from sklearn.feature_extraction.text import TfidfVectorizer\n",
        "# from scipy.sparse.csr import csr_matrix\n",
        "# import numpy as np\n",
        "# import pandas as pd"
      ],
      "execution_count": 72,
      "outputs": []
    },
    {
      "cell_type": "code",
      "metadata": {
        "id": "pQXhKJhNMx2J",
        "colab": {
          "base_uri": "https://localhost:8080/"
        },
        "outputId": "d5ec383f-d4e3-4a0a-9324-0ed15b91b297"
      },
      "source": [
        "# let's take two texts (sentences) for simplicity\n",
        "text1 = 'all the world’s a stage, and all the men and women merely players'\n",
        "text2 = 'you must be the change you wish to see in the world'\n",
        "\n",
        "# combine them into a case\n",
        "corpus = [text1, text2]\n",
        "\n",
        "# creating an object of the TfidfVectorizer class\n",
        "tfIdfVectorizer = TfidfVectorizer(use_idf = True, stop_words = 'english')\n",
        "\n",
        "# at the output, we get two vectors, where each value is the weight (tf-idf indicator) of the word\n",
        "X = tfIdfVectorizer.fit_transform(corpus)\n",
        "\n",
        "# converting the data to a Numpy array\n",
        "print(X.toarray())"
      ],
      "execution_count": 73,
      "outputs": [
        {
          "output_type": "stream",
          "name": "stdout",
          "text": [
            "[[0.         0.4261596  0.4261596  0.4261596  0.4261596  0.\n",
            "  0.4261596  0.30321606]\n",
            " [0.6316672  0.         0.         0.         0.         0.6316672\n",
            "  0.         0.44943642]]\n"
          ]
        }
      ]
    },
    {
      "cell_type": "code",
      "metadata": {
        "id": "JTwMv_ZbO2cQ",
        "colab": {
          "base_uri": "https://localhost:8080/",
          "height": 112
        },
        "outputId": "c742e165-0e31-4a1e-c12e-d22ab24ea3ef"
      },
      "source": [
        "# for convenience, we can look at the weights in the dataframe format\n",
        "vectors_df = pd.DataFrame(data = X.toarray(),\n",
        "                          index = ['vector1', 'vector2'],\n",
        "                          columns = tfIdfVectorizer.get_feature_names_out())\n",
        "vectors_df"
      ],
      "execution_count": 74,
      "outputs": [
        {
          "output_type": "execute_result",
          "data": {
            "text/plain": [
              "           change      men   merely  players    stage      wish    women  \\\n",
              "vector1  0.000000  0.42616  0.42616  0.42616  0.42616  0.000000  0.42616   \n",
              "vector2  0.631667  0.00000  0.00000  0.00000  0.00000  0.631667  0.00000   \n",
              "\n",
              "            world  \n",
              "vector1  0.303216  \n",
              "vector2  0.449436  "
            ],
            "text/html": [
              "\n",
              "  <div id=\"df-03bf020a-f05b-4d73-8b52-857916e23d2a\" class=\"colab-df-container\">\n",
              "    <div>\n",
              "<style scoped>\n",
              "    .dataframe tbody tr th:only-of-type {\n",
              "        vertical-align: middle;\n",
              "    }\n",
              "\n",
              "    .dataframe tbody tr th {\n",
              "        vertical-align: top;\n",
              "    }\n",
              "\n",
              "    .dataframe thead th {\n",
              "        text-align: right;\n",
              "    }\n",
              "</style>\n",
              "<table border=\"1\" class=\"dataframe\">\n",
              "  <thead>\n",
              "    <tr style=\"text-align: right;\">\n",
              "      <th></th>\n",
              "      <th>change</th>\n",
              "      <th>men</th>\n",
              "      <th>merely</th>\n",
              "      <th>players</th>\n",
              "      <th>stage</th>\n",
              "      <th>wish</th>\n",
              "      <th>women</th>\n",
              "      <th>world</th>\n",
              "    </tr>\n",
              "  </thead>\n",
              "  <tbody>\n",
              "    <tr>\n",
              "      <th>vector1</th>\n",
              "      <td>0.000000</td>\n",
              "      <td>0.42616</td>\n",
              "      <td>0.42616</td>\n",
              "      <td>0.42616</td>\n",
              "      <td>0.42616</td>\n",
              "      <td>0.000000</td>\n",
              "      <td>0.42616</td>\n",
              "      <td>0.303216</td>\n",
              "    </tr>\n",
              "    <tr>\n",
              "      <th>vector2</th>\n",
              "      <td>0.631667</td>\n",
              "      <td>0.00000</td>\n",
              "      <td>0.00000</td>\n",
              "      <td>0.00000</td>\n",
              "      <td>0.00000</td>\n",
              "      <td>0.631667</td>\n",
              "      <td>0.00000</td>\n",
              "      <td>0.449436</td>\n",
              "    </tr>\n",
              "  </tbody>\n",
              "</table>\n",
              "</div>\n",
              "    <div class=\"colab-df-buttons\">\n",
              "\n",
              "  <div class=\"colab-df-container\">\n",
              "    <button class=\"colab-df-convert\" onclick=\"convertToInteractive('df-03bf020a-f05b-4d73-8b52-857916e23d2a')\"\n",
              "            title=\"Convert this dataframe to an interactive table.\"\n",
              "            style=\"display:none;\">\n",
              "\n",
              "  <svg xmlns=\"http://www.w3.org/2000/svg\" height=\"24px\" viewBox=\"0 -960 960 960\">\n",
              "    <path d=\"M120-120v-720h720v720H120Zm60-500h600v-160H180v160Zm220 220h160v-160H400v160Zm0 220h160v-160H400v160ZM180-400h160v-160H180v160Zm440 0h160v-160H620v160ZM180-180h160v-160H180v160Zm440 0h160v-160H620v160Z\"/>\n",
              "  </svg>\n",
              "    </button>\n",
              "\n",
              "  <style>\n",
              "    .colab-df-container {\n",
              "      display:flex;\n",
              "      gap: 12px;\n",
              "    }\n",
              "\n",
              "    .colab-df-convert {\n",
              "      background-color: #E8F0FE;\n",
              "      border: none;\n",
              "      border-radius: 50%;\n",
              "      cursor: pointer;\n",
              "      display: none;\n",
              "      fill: #1967D2;\n",
              "      height: 32px;\n",
              "      padding: 0 0 0 0;\n",
              "      width: 32px;\n",
              "    }\n",
              "\n",
              "    .colab-df-convert:hover {\n",
              "      background-color: #E2EBFA;\n",
              "      box-shadow: 0px 1px 2px rgba(60, 64, 67, 0.3), 0px 1px 3px 1px rgba(60, 64, 67, 0.15);\n",
              "      fill: #174EA6;\n",
              "    }\n",
              "\n",
              "    .colab-df-buttons div {\n",
              "      margin-bottom: 4px;\n",
              "    }\n",
              "\n",
              "    [theme=dark] .colab-df-convert {\n",
              "      background-color: #3B4455;\n",
              "      fill: #D2E3FC;\n",
              "    }\n",
              "\n",
              "    [theme=dark] .colab-df-convert:hover {\n",
              "      background-color: #434B5C;\n",
              "      box-shadow: 0px 1px 3px 1px rgba(0, 0, 0, 0.15);\n",
              "      filter: drop-shadow(0px 1px 2px rgba(0, 0, 0, 0.3));\n",
              "      fill: #FFFFFF;\n",
              "    }\n",
              "  </style>\n",
              "\n",
              "    <script>\n",
              "      const buttonEl =\n",
              "        document.querySelector('#df-03bf020a-f05b-4d73-8b52-857916e23d2a button.colab-df-convert');\n",
              "      buttonEl.style.display =\n",
              "        google.colab.kernel.accessAllowed ? 'block' : 'none';\n",
              "\n",
              "      async function convertToInteractive(key) {\n",
              "        const element = document.querySelector('#df-03bf020a-f05b-4d73-8b52-857916e23d2a');\n",
              "        const dataTable =\n",
              "          await google.colab.kernel.invokeFunction('convertToInteractive',\n",
              "                                                    [key], {});\n",
              "        if (!dataTable) return;\n",
              "\n",
              "        const docLinkHtml = 'Like what you see? Visit the ' +\n",
              "          '<a target=\"_blank\" href=https://colab.research.google.com/notebooks/data_table.ipynb>data table notebook</a>'\n",
              "          + ' to learn more about interactive tables.';\n",
              "        element.innerHTML = '';\n",
              "        dataTable['output_type'] = 'display_data';\n",
              "        await google.colab.output.renderOutput(dataTable, element);\n",
              "        const docLink = document.createElement('div');\n",
              "        docLink.innerHTML = docLinkHtml;\n",
              "        element.appendChild(docLink);\n",
              "      }\n",
              "    </script>\n",
              "  </div>\n",
              "\n",
              "\n",
              "<div id=\"df-19809682-1d05-40c5-86c2-fbd3bfe7b475\">\n",
              "  <button class=\"colab-df-quickchart\" onclick=\"quickchart('df-19809682-1d05-40c5-86c2-fbd3bfe7b475')\"\n",
              "            title=\"Suggest charts\"\n",
              "            style=\"display:none;\">\n",
              "\n",
              "<svg xmlns=\"http://www.w3.org/2000/svg\" height=\"24px\"viewBox=\"0 0 24 24\"\n",
              "     width=\"24px\">\n",
              "    <g>\n",
              "        <path d=\"M19 3H5c-1.1 0-2 .9-2 2v14c0 1.1.9 2 2 2h14c1.1 0 2-.9 2-2V5c0-1.1-.9-2-2-2zM9 17H7v-7h2v7zm4 0h-2V7h2v10zm4 0h-2v-4h2v4z\"/>\n",
              "    </g>\n",
              "</svg>\n",
              "  </button>\n",
              "\n",
              "<style>\n",
              "  .colab-df-quickchart {\n",
              "      --bg-color: #E8F0FE;\n",
              "      --fill-color: #1967D2;\n",
              "      --hover-bg-color: #E2EBFA;\n",
              "      --hover-fill-color: #174EA6;\n",
              "      --disabled-fill-color: #AAA;\n",
              "      --disabled-bg-color: #DDD;\n",
              "  }\n",
              "\n",
              "  [theme=dark] .colab-df-quickchart {\n",
              "      --bg-color: #3B4455;\n",
              "      --fill-color: #D2E3FC;\n",
              "      --hover-bg-color: #434B5C;\n",
              "      --hover-fill-color: #FFFFFF;\n",
              "      --disabled-bg-color: #3B4455;\n",
              "      --disabled-fill-color: #666;\n",
              "  }\n",
              "\n",
              "  .colab-df-quickchart {\n",
              "    background-color: var(--bg-color);\n",
              "    border: none;\n",
              "    border-radius: 50%;\n",
              "    cursor: pointer;\n",
              "    display: none;\n",
              "    fill: var(--fill-color);\n",
              "    height: 32px;\n",
              "    padding: 0;\n",
              "    width: 32px;\n",
              "  }\n",
              "\n",
              "  .colab-df-quickchart:hover {\n",
              "    background-color: var(--hover-bg-color);\n",
              "    box-shadow: 0 1px 2px rgba(60, 64, 67, 0.3), 0 1px 3px 1px rgba(60, 64, 67, 0.15);\n",
              "    fill: var(--button-hover-fill-color);\n",
              "  }\n",
              "\n",
              "  .colab-df-quickchart-complete:disabled,\n",
              "  .colab-df-quickchart-complete:disabled:hover {\n",
              "    background-color: var(--disabled-bg-color);\n",
              "    fill: var(--disabled-fill-color);\n",
              "    box-shadow: none;\n",
              "  }\n",
              "\n",
              "  .colab-df-spinner {\n",
              "    border: 2px solid var(--fill-color);\n",
              "    border-color: transparent;\n",
              "    border-bottom-color: var(--fill-color);\n",
              "    animation:\n",
              "      spin 1s steps(1) infinite;\n",
              "  }\n",
              "\n",
              "  @keyframes spin {\n",
              "    0% {\n",
              "      border-color: transparent;\n",
              "      border-bottom-color: var(--fill-color);\n",
              "      border-left-color: var(--fill-color);\n",
              "    }\n",
              "    20% {\n",
              "      border-color: transparent;\n",
              "      border-left-color: var(--fill-color);\n",
              "      border-top-color: var(--fill-color);\n",
              "    }\n",
              "    30% {\n",
              "      border-color: transparent;\n",
              "      border-left-color: var(--fill-color);\n",
              "      border-top-color: var(--fill-color);\n",
              "      border-right-color: var(--fill-color);\n",
              "    }\n",
              "    40% {\n",
              "      border-color: transparent;\n",
              "      border-right-color: var(--fill-color);\n",
              "      border-top-color: var(--fill-color);\n",
              "    }\n",
              "    60% {\n",
              "      border-color: transparent;\n",
              "      border-right-color: var(--fill-color);\n",
              "    }\n",
              "    80% {\n",
              "      border-color: transparent;\n",
              "      border-right-color: var(--fill-color);\n",
              "      border-bottom-color: var(--fill-color);\n",
              "    }\n",
              "    90% {\n",
              "      border-color: transparent;\n",
              "      border-bottom-color: var(--fill-color);\n",
              "    }\n",
              "  }\n",
              "</style>\n",
              "\n",
              "  <script>\n",
              "    async function quickchart(key) {\n",
              "      const quickchartButtonEl =\n",
              "        document.querySelector('#' + key + ' button');\n",
              "      quickchartButtonEl.disabled = true;  // To prevent multiple clicks.\n",
              "      quickchartButtonEl.classList.add('colab-df-spinner');\n",
              "      try {\n",
              "        const charts = await google.colab.kernel.invokeFunction(\n",
              "            'suggestCharts', [key], {});\n",
              "      } catch (error) {\n",
              "        console.error('Error during call to suggestCharts:', error);\n",
              "      }\n",
              "      quickchartButtonEl.classList.remove('colab-df-spinner');\n",
              "      quickchartButtonEl.classList.add('colab-df-quickchart-complete');\n",
              "    }\n",
              "    (() => {\n",
              "      let quickchartButtonEl =\n",
              "        document.querySelector('#df-19809682-1d05-40c5-86c2-fbd3bfe7b475 button');\n",
              "      quickchartButtonEl.style.display =\n",
              "        google.colab.kernel.accessAllowed ? 'block' : 'none';\n",
              "    })();\n",
              "  </script>\n",
              "</div>\n",
              "    </div>\n",
              "  </div>\n"
            ],
            "application/vnd.google.colaboratory.intrinsic+json": {
              "type": "dataframe",
              "variable_name": "vectors_df",
              "summary": "{\n  \"name\": \"vectors_df\",\n  \"rows\": 2,\n  \"fields\": [\n    {\n      \"column\": \"change\",\n      \"properties\": {\n        \"dtype\": \"number\",\n        \"std\": 0.44665616180180523,\n        \"min\": 0.0,\n        \"max\": 0.6316672017376245,\n        \"num_unique_values\": 2,\n        \"samples\": [\n          0.6316672017376245,\n          0.0\n        ],\n        \"semantic_type\": \"\",\n        \"description\": \"\"\n      }\n    },\n    {\n      \"column\": \"men\",\n      \"properties\": {\n        \"dtype\": \"number\",\n        \"std\": 0.3013403421812651,\n        \"min\": 0.0,\n        \"max\": 0.42615959880289433,\n        \"num_unique_values\": 2,\n        \"samples\": [\n          0.0,\n          0.42615959880289433\n        ],\n        \"semantic_type\": \"\",\n        \"description\": \"\"\n      }\n    },\n    {\n      \"column\": \"merely\",\n      \"properties\": {\n        \"dtype\": \"number\",\n        \"std\": 0.3013403421812651,\n        \"min\": 0.0,\n        \"max\": 0.42615959880289433,\n        \"num_unique_values\": 2,\n        \"samples\": [\n          0.0,\n          0.42615959880289433\n        ],\n        \"semantic_type\": \"\",\n        \"description\": \"\"\n      }\n    },\n    {\n      \"column\": \"players\",\n      \"properties\": {\n        \"dtype\": \"number\",\n        \"std\": 0.3013403421812651,\n        \"min\": 0.0,\n        \"max\": 0.42615959880289433,\n        \"num_unique_values\": 2,\n        \"samples\": [\n          0.0,\n          0.42615959880289433\n        ],\n        \"semantic_type\": \"\",\n        \"description\": \"\"\n      }\n    },\n    {\n      \"column\": \"stage\",\n      \"properties\": {\n        \"dtype\": \"number\",\n        \"std\": 0.3013403421812651,\n        \"min\": 0.0,\n        \"max\": 0.42615959880289433,\n        \"num_unique_values\": 2,\n        \"samples\": [\n          0.0,\n          0.42615959880289433\n        ],\n        \"semantic_type\": \"\",\n        \"description\": \"\"\n      }\n    },\n    {\n      \"column\": \"wish\",\n      \"properties\": {\n        \"dtype\": \"number\",\n        \"std\": 0.44665616180180523,\n        \"min\": 0.0,\n        \"max\": 0.6316672017376245,\n        \"num_unique_values\": 2,\n        \"samples\": [\n          0.6316672017376245,\n          0.0\n        ],\n        \"semantic_type\": \"\",\n        \"description\": \"\"\n      }\n    },\n    {\n      \"column\": \"women\",\n      \"properties\": {\n        \"dtype\": \"number\",\n        \"std\": 0.3013403421812651,\n        \"min\": 0.0,\n        \"max\": 0.42615959880289433,\n        \"num_unique_values\": 2,\n        \"samples\": [\n          0.0,\n          0.42615959880289433\n        ],\n        \"semantic_type\": \"\",\n        \"description\": \"\"\n      }\n    },\n    {\n      \"column\": \"world\",\n      \"properties\": {\n        \"dtype\": \"number\",\n        \"std\": 0.10339340249872404,\n        \"min\": 0.3032160644503863,\n        \"max\": 0.4494364165239821,\n        \"num_unique_values\": 2,\n        \"samples\": [\n          0.4494364165239821,\n          0.3032160644503863\n        ],\n        \"semantic_type\": \"\",\n        \"description\": \"\"\n      }\n    }\n  ]\n}"
            }
          },
          "metadata": {},
          "execution_count": 74
        }
      ]
    },
    {
      "cell_type": "markdown",
      "metadata": {
        "id": "dBDrj4OuMm8l"
      },
      "source": [
        "Let me remind you of the cosine distance formula\n",
        ":\n",
        "\n",
        "$$ \\cos \\theta ={\\mathbf {a} \\cdot \\mathbf {b} \\over \\|\\mathbf {a} \\|\\|\\mathbf {b} \\|} $$"
      ]
    },
    {
      "cell_type": "code",
      "metadata": {
        "id": "2II-ulWhMqcU"
      },
      "source": [
        "# take the vectors separately\n",
        "vector1 = X.toarray()[0]\n",
        "vector2 = X.toarray()[1]"
      ],
      "execution_count": 75,
      "outputs": []
    },
    {
      "cell_type": "code",
      "metadata": {
        "id": "wGSk7TsDTQ66"
      },
      "source": [
        "# first, we perform the operations in the numerator of the formula\n",
        "numerator = np.dot(vector1, vector2)"
      ],
      "execution_count": 76,
      "outputs": []
    },
    {
      "cell_type": "code",
      "metadata": {
        "id": "kYy73KmiTZNo"
      },
      "source": [
        "# now let's take the denominator and\n",
        "# (1) calculate the lengths (by and large, this is the Pythagorean theorem)\n",
        "vector1Len = np.linalg.norm(vector1)\n",
        "vector2Len = np.linalg.norm(vector2)\n",
        "\n",
        "# (2) multiply them\n",
        "denominator = vector1Len * vector2Len"
      ],
      "execution_count": 77,
      "outputs": []
    },
    {
      "cell_type": "code",
      "metadata": {
        "id": "LZLhzIlQTo8D",
        "colab": {
          "base_uri": "https://localhost:8080/"
        },
        "outputId": "159665c4-2b55-4749-82a6-29164cc94b56"
      },
      "source": [
        "# see what the cosine of the angle between the vectors is\n",
        "cosine = numerator/denominator\n",
        "cosine"
      ],
      "execution_count": 78,
      "outputs": [
        {
          "output_type": "execute_result",
          "data": {
            "text/plain": [
              "0.13627634143908643"
            ]
          },
          "metadata": {},
          "execution_count": 78
        }
      ]
    },
    {
      "cell_type": "code",
      "metadata": {
        "id": "8GzHUtfMTqB9",
        "colab": {
          "base_uri": "https://localhost:8080/"
        },
        "outputId": "fb22b082-99f3-4ab0-c195-a6afbb639912"
      },
      "source": [
        "# find the angle in degrees by its cosine\n",
        "# to do this, first calculate the angle in radians\n",
        "angle_radians = np.arccos(cosine)\n",
        "\n",
        "# then in degrees\n",
        "angle_degrees = angle_radians * 360/2/np.pi\n",
        "round(angle_degrees, 2)"
      ],
      "execution_count": 79,
      "outputs": [
        {
          "output_type": "execute_result",
          "data": {
            "text/plain": [
              "82.17"
            ]
          },
          "metadata": {},
          "execution_count": 79
        }
      ]
    },
    {
      "cell_type": "markdown",
      "metadata": {
        "id": "yWV7Qcrc-R3K"
      },
      "source": [
        "#### Cluster text analysis"
      ]
    },
    {
      "cell_type": "code",
      "metadata": {
        "id": "bOxXBC9R-T5s"
      },
      "source": [
        "# There are two topics in the text below: data science and the Bolshoi Theater (source: Wikipedia)\n",
        "text = '''\n",
        "Data science is an interdisciplinary field that uses scientific methods, processes, algorithms and systems to extract knowledge and insights from noisy, structured and unstructured data.\n",
        "It applies knowledge and actionable insights from data across a broad range of application domains.\n",
        "Data science is related to data mining, machine learning and big data.\n",
        "The Bolshoi Theatre is a historic theatre in Moscow, Russia.\n",
        "It was originally designed by architect Joseph Bové, which holds ballet and opera performances.\n",
        "Before the October Revolution it was a part of the Imperial Theatres of the Russian Empire along with Maly Theatre in Moscow and a few theatres in Saint Petersburg.\n",
        "Data science is a concept to unify statistics, data analysis, informatics, and their related methods in order to understand and analyze actual phenomena with data.\n",
        "However, data science is different from computer science and information science.\n",
        "The main building of the theatre, rebuilt and renovated several times during its history, is a landmark of Moscow and Russia.\n",
        "On 28 October 2011, the Bolshoi re-opened after an extensive six-year renovation.\n",
        "'''"
      ],
      "execution_count": 80,
      "outputs": []
    },
    {
      "cell_type": "code",
      "metadata": {
        "id": "URq4UO70_HIe"
      },
      "source": [
        "# creating a list of suggestions\n",
        "corpus = []\n",
        "\n",
        "# to do this, in the for loop, we will go through the text, dividing it by the newline \\n\n",
        "for line in text.split('\\n'):\n",
        "\n",
        "  # if the string is not empty (i.e. True)\n",
        "  if line:\n",
        "\n",
        "    # we translate it to lowercase\n",
        "    line = line.lower()\n",
        "    # and add it to the list\n",
        "    corpus.append(line)"
      ],
      "execution_count": 81,
      "outputs": []
    },
    {
      "cell_type": "code",
      "metadata": {
        "id": "rykJ5ZyeBa1a",
        "colab": {
          "base_uri": "https://localhost:8080/"
        },
        "outputId": "c99aed8f-eaf4-4d96-9bfa-49bfbdfe5f43"
      },
      "source": [
        "corpus"
      ],
      "execution_count": 82,
      "outputs": [
        {
          "output_type": "execute_result",
          "data": {
            "text/plain": [
              "['data science is an interdisciplinary field that uses scientific methods, processes, algorithms and systems to extract knowledge and insights from noisy, structured and unstructured data.',\n",
              " 'it applies knowledge and actionable insights from data across a broad range of application domains.',\n",
              " 'data science is related to data mining, machine learning and big data.',\n",
              " 'the bolshoi theatre is a historic theatre in moscow, russia.',\n",
              " 'it was originally designed by architect joseph bové, which holds ballet and opera performances.',\n",
              " 'before the october revolution it was a part of the imperial theatres of the russian empire along with maly theatre in moscow and a few theatres in saint petersburg.',\n",
              " 'data science is a concept to unify statistics, data analysis, informatics, and their related methods in order to understand and analyze actual phenomena with data.',\n",
              " 'however, data science is different from computer science and information science.',\n",
              " 'the main building of the theatre, rebuilt and renovated several times during its history, is a landmark of moscow and russia.',\n",
              " 'on 28 october 2011, the bolshoi re-opened after an extensive six-year renovation.']"
            ]
          },
          "metadata": {},
          "execution_count": 82
        }
      ]
    },
    {
      "cell_type": "code",
      "metadata": {
        "id": "hMYN-CuWBgoY"
      },
      "source": [
        "# TfidfVectorizer example\n",
        "tfIdfVectorizer = TfidfVectorizer(use_idf = True, stop_words= 'english')\n",
        "\n",
        "# at the output, we get sentence vectors\n",
        "X = tfIdfVectorizer.fit_transform(corpus)\n",
        "# print(X.toarray())"
      ],
      "execution_count": 83,
      "outputs": []
    },
    {
      "cell_type": "code",
      "metadata": {
        "id": "GrfvoegnCjIq"
      },
      "source": [
        "# importing the k-means algorithm from the sklearn library\n",
        "from sklearn.cluster import KMeans\n",
        "\n",
        "# since we know that there are two topics, we use the hyperparameter k = 2\n",
        "kmeans = KMeans(n_clusters = 2, n_init = 10, random_state = 42).fit(X)"
      ],
      "execution_count": 84,
      "outputs": []
    },
    {
      "cell_type": "code",
      "metadata": {
        "id": "AVBrBMMNC1I5",
        "colab": {
          "base_uri": "https://localhost:8080/"
        },
        "outputId": "e0623748-fde6-4786-a450-ad2dd9b253c0"
      },
      "source": [
        "# take the new proposals, one from the field of Data Science and two about the Bolshoi Theater\n",
        "prediction = ['Many statisticians, including Nate Silver, have argued that data science is not a new field, but rather another name for statistics.',\n",
        "              'Urusov set up the theatre in collaboration with English tightrope walker Michael Maddox.',\n",
        "              'Until the mid-1990s, most foreign operas were sung in Russian, but Italian and other languages have been heard more frequently on the Bolshoi stage in recent years.']\n",
        "\n",
        "# let's apply two models, first we will create vectors of new sentences (TfidfVectorizer.transform),\n",
        "# then we assign them to one of the clusters (kmeans.predict)\n",
        "kmeans.predict(tfIdfVectorizer.transform(prediction))"
      ],
      "execution_count": 85,
      "outputs": [
        {
          "output_type": "execute_result",
          "data": {
            "text/plain": [
              "array([1, 0, 0], dtype=int32)"
            ]
          },
          "metadata": {},
          "execution_count": 85
        }
      ]
    }
  ]
}